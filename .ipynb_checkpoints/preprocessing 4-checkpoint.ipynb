{
 "cells": [
  {
   "cell_type": "code",
   "execution_count": 1,
   "metadata": {},
   "outputs": [],
   "source": [
    "import pandas as pd\n",
    "import numpy as np\n",
    "import requests\n",
    "import bs4 as bs\n",
    "import urllib.request"
   ]
  },
  {
   "cell_type": "markdown",
   "metadata": {},
   "source": [
    "## Extracting features of 2020 movies from Wikipedia"
   ]
  },
  {
   "cell_type": "code",
   "execution_count": 2,
   "metadata": {},
   "outputs": [],
   "source": [
    "link = \"https://en.wikipedia.org/wiki/List_of_American_films_of_2020\""
   ]
  },
  {
   "cell_type": "code",
   "execution_count": 3,
   "metadata": {},
   "outputs": [],
   "source": [
    "source = urllib.request.urlopen(link).read()\n",
    "soup = bs.BeautifulSoup(source,'lxml')"
   ]
  },
  {
   "cell_type": "code",
   "execution_count": 4,
   "metadata": {},
   "outputs": [],
   "source": [
    "tables = soup.find_all('table',class_='wikitable sortable')"
   ]
  },
  {
   "cell_type": "code",
   "execution_count": 5,
   "metadata": {},
   "outputs": [
    {
     "data": {
      "text/plain": [
       "4"
      ]
     },
     "execution_count": 5,
     "metadata": {},
     "output_type": "execute_result"
    }
   ],
   "source": [
    "len(tables)"
   ]
  },
  {
   "cell_type": "code",
   "execution_count": 6,
   "metadata": {},
   "outputs": [
    {
     "data": {
      "text/plain": [
       "bs4.element.Tag"
      ]
     },
     "execution_count": 6,
     "metadata": {},
     "output_type": "execute_result"
    }
   ],
   "source": [
    "type(tables[0])"
   ]
  },
  {
   "cell_type": "code",
   "execution_count": 7,
   "metadata": {},
   "outputs": [],
   "source": [
    "df1 = pd.read_html(str(tables[0]))[0]\n",
    "df2 = pd.read_html(str(tables[1]))[0]\n",
    "df3 = pd.read_html(str(tables[2]))[0]\n",
    "df4 = pd.read_html(str(tables[3]).replace(\"'1\\\"\\'\",'\"1\"'))[0] # avoided \"ValueError: invalid literal for int() with base 10: '1\"'"
   ]
  },
  {
   "cell_type": "code",
   "execution_count": 8,
   "metadata": {},
   "outputs": [
    {
     "name": "stderr",
     "output_type": "stream",
     "text": [
      "C:\\Users\\KIIT\\AppData\\Local\\Temp\\ipykernel_51948\\1752420719.py:1: FutureWarning: The frame.append method is deprecated and will be removed from pandas in a future version. Use pandas.concat instead.\n",
      "  df = df1.append(df2.append(df3.append(df4,ignore_index=True),ignore_index=True),ignore_index=True)\n"
     ]
    }
   ],
   "source": [
    "df = df1.append(df2.append(df3.append(df4,ignore_index=True),ignore_index=True),ignore_index=True)"
   ]
  },
  {
   "cell_type": "code",
   "execution_count": 9,
   "metadata": {},
   "outputs": [
    {
     "data": {
      "text/html": [
       "<div>\n",
       "<style scoped>\n",
       "    .dataframe tbody tr th:only-of-type {\n",
       "        vertical-align: middle;\n",
       "    }\n",
       "\n",
       "    .dataframe tbody tr th {\n",
       "        vertical-align: top;\n",
       "    }\n",
       "\n",
       "    .dataframe thead th {\n",
       "        text-align: right;\n",
       "    }\n",
       "</style>\n",
       "<table border=\"1\" class=\"dataframe\">\n",
       "  <thead>\n",
       "    <tr style=\"text-align: right;\">\n",
       "      <th></th>\n",
       "      <th>Opening</th>\n",
       "      <th>Opening.1</th>\n",
       "      <th>Title</th>\n",
       "      <th>Production company</th>\n",
       "      <th>Cast and crew</th>\n",
       "      <th>.mw-parser-output .tooltip-dotted{border-bottom:1px dotted;cursor:help}Ref.</th>\n",
       "      <th>Ref.</th>\n",
       "    </tr>\n",
       "  </thead>\n",
       "  <tbody>\n",
       "    <tr>\n",
       "      <th>0</th>\n",
       "      <td>JANUARY</td>\n",
       "      <td>3</td>\n",
       "      <td>The Grudge</td>\n",
       "      <td>Screen Gems / Stage 6 Films / Ghost House Pict...</td>\n",
       "      <td>Nicolas Pesce (director/screenplay); Andrea Ri...</td>\n",
       "      <td>[2]</td>\n",
       "      <td>NaN</td>\n",
       "    </tr>\n",
       "    <tr>\n",
       "      <th>1</th>\n",
       "      <td>JANUARY</td>\n",
       "      <td>10</td>\n",
       "      <td>Underwater</td>\n",
       "      <td>20th Century Fox / TSG Entertainment / Chernin...</td>\n",
       "      <td>William Eubank (director); Brian Duffield, Ada...</td>\n",
       "      <td>[3]</td>\n",
       "      <td>NaN</td>\n",
       "    </tr>\n",
       "    <tr>\n",
       "      <th>2</th>\n",
       "      <td>JANUARY</td>\n",
       "      <td>10</td>\n",
       "      <td>Like a Boss</td>\n",
       "      <td>Paramount Pictures / Artists First</td>\n",
       "      <td>Miguel Arteta (director); Sam Pitman, Adam Col...</td>\n",
       "      <td>[4]</td>\n",
       "      <td>NaN</td>\n",
       "    </tr>\n",
       "    <tr>\n",
       "      <th>3</th>\n",
       "      <td>JANUARY</td>\n",
       "      <td>10</td>\n",
       "      <td>Three Christs</td>\n",
       "      <td>IFC Films</td>\n",
       "      <td>Jon Avnet (director/screenplay); Eric Nazarian...</td>\n",
       "      <td>NaN</td>\n",
       "      <td>NaN</td>\n",
       "    </tr>\n",
       "    <tr>\n",
       "      <th>4</th>\n",
       "      <td>JANUARY</td>\n",
       "      <td>10</td>\n",
       "      <td>Inherit the Viper</td>\n",
       "      <td>Lionsgate / Barry Films / Tycor International ...</td>\n",
       "      <td>Anthony Jerjen (director); Andrew Crabtree (sc...</td>\n",
       "      <td>[5]</td>\n",
       "      <td>NaN</td>\n",
       "    </tr>\n",
       "    <tr>\n",
       "      <th>...</th>\n",
       "      <td>...</td>\n",
       "      <td>...</td>\n",
       "      <td>...</td>\n",
       "      <td>...</td>\n",
       "      <td>...</td>\n",
       "      <td>...</td>\n",
       "      <td>...</td>\n",
       "    </tr>\n",
       "    <tr>\n",
       "      <th>270</th>\n",
       "      <td>DECEMBER</td>\n",
       "      <td>25</td>\n",
       "      <td>We Can Be Heroes</td>\n",
       "      <td>Netflix / Troublemaker Studios / Double R Prod...</td>\n",
       "      <td>Robert Rodriguez (director/screenplay); Priyan...</td>\n",
       "      <td>NaN</td>\n",
       "      <td>[243]</td>\n",
       "    </tr>\n",
       "    <tr>\n",
       "      <th>271</th>\n",
       "      <td>DECEMBER</td>\n",
       "      <td>25</td>\n",
       "      <td>News of the World</td>\n",
       "      <td>Universal Pictures / Perfect World Pictures</td>\n",
       "      <td>Paul Greengrass (director/screenplay); Luke Da...</td>\n",
       "      <td>NaN</td>\n",
       "      <td>[244]</td>\n",
       "    </tr>\n",
       "    <tr>\n",
       "      <th>272</th>\n",
       "      <td>DECEMBER</td>\n",
       "      <td>25</td>\n",
       "      <td>One Night in Miami...</td>\n",
       "      <td>Amazon Studios</td>\n",
       "      <td>Regina King (director); Kemp Powers (screenpla...</td>\n",
       "      <td>NaN</td>\n",
       "      <td>[245]</td>\n",
       "    </tr>\n",
       "    <tr>\n",
       "      <th>273</th>\n",
       "      <td>DECEMBER</td>\n",
       "      <td>25</td>\n",
       "      <td>Promising Young Woman</td>\n",
       "      <td>Focus Features / FilmNation Entertainment</td>\n",
       "      <td>Emerald Fennell (director/screenplay); Carey M...</td>\n",
       "      <td>NaN</td>\n",
       "      <td>[246]</td>\n",
       "    </tr>\n",
       "    <tr>\n",
       "      <th>274</th>\n",
       "      <td>DECEMBER</td>\n",
       "      <td>30</td>\n",
       "      <td>Pieces of a Woman</td>\n",
       "      <td>Netflix / Bron Studios</td>\n",
       "      <td>Kornél Mundruczó (director); Kata Wéber (scree...</td>\n",
       "      <td>NaN</td>\n",
       "      <td>[247]</td>\n",
       "    </tr>\n",
       "  </tbody>\n",
       "</table>\n",
       "<p>275 rows × 7 columns</p>\n",
       "</div>"
      ],
      "text/plain": [
       "      Opening  Opening.1                  Title  \\\n",
       "0     JANUARY          3             The Grudge   \n",
       "1     JANUARY         10             Underwater   \n",
       "2     JANUARY         10            Like a Boss   \n",
       "3     JANUARY         10          Three Christs   \n",
       "4     JANUARY         10      Inherit the Viper   \n",
       "..        ...        ...                    ...   \n",
       "270  DECEMBER         25       We Can Be Heroes   \n",
       "271  DECEMBER         25      News of the World   \n",
       "272  DECEMBER         25  One Night in Miami...   \n",
       "273  DECEMBER         25  Promising Young Woman   \n",
       "274  DECEMBER         30      Pieces of a Woman   \n",
       "\n",
       "                                    Production company  \\\n",
       "0    Screen Gems / Stage 6 Films / Ghost House Pict...   \n",
       "1    20th Century Fox / TSG Entertainment / Chernin...   \n",
       "2                   Paramount Pictures / Artists First   \n",
       "3                                            IFC Films   \n",
       "4    Lionsgate / Barry Films / Tycor International ...   \n",
       "..                                                 ...   \n",
       "270  Netflix / Troublemaker Studios / Double R Prod...   \n",
       "271        Universal Pictures / Perfect World Pictures   \n",
       "272                                     Amazon Studios   \n",
       "273          Focus Features / FilmNation Entertainment   \n",
       "274                             Netflix / Bron Studios   \n",
       "\n",
       "                                         Cast and crew  \\\n",
       "0    Nicolas Pesce (director/screenplay); Andrea Ri...   \n",
       "1    William Eubank (director); Brian Duffield, Ada...   \n",
       "2    Miguel Arteta (director); Sam Pitman, Adam Col...   \n",
       "3    Jon Avnet (director/screenplay); Eric Nazarian...   \n",
       "4    Anthony Jerjen (director); Andrew Crabtree (sc...   \n",
       "..                                                 ...   \n",
       "270  Robert Rodriguez (director/screenplay); Priyan...   \n",
       "271  Paul Greengrass (director/screenplay); Luke Da...   \n",
       "272  Regina King (director); Kemp Powers (screenpla...   \n",
       "273  Emerald Fennell (director/screenplay); Carey M...   \n",
       "274  Kornél Mundruczó (director); Kata Wéber (scree...   \n",
       "\n",
       "    .mw-parser-output .tooltip-dotted{border-bottom:1px dotted;cursor:help}Ref.  \\\n",
       "0                                                  [2]                            \n",
       "1                                                  [3]                            \n",
       "2                                                  [4]                            \n",
       "3                                                  NaN                            \n",
       "4                                                  [5]                            \n",
       "..                                                 ...                            \n",
       "270                                                NaN                            \n",
       "271                                                NaN                            \n",
       "272                                                NaN                            \n",
       "273                                                NaN                            \n",
       "274                                                NaN                            \n",
       "\n",
       "      Ref.  \n",
       "0      NaN  \n",
       "1      NaN  \n",
       "2      NaN  \n",
       "3      NaN  \n",
       "4      NaN  \n",
       "..     ...  \n",
       "270  [243]  \n",
       "271  [244]  \n",
       "272  [245]  \n",
       "273  [246]  \n",
       "274  [247]  \n",
       "\n",
       "[275 rows x 7 columns]"
      ]
     },
     "execution_count": 9,
     "metadata": {},
     "output_type": "execute_result"
    }
   ],
   "source": [
    "df"
   ]
  },
  {
   "cell_type": "code",
   "execution_count": 10,
   "metadata": {},
   "outputs": [],
   "source": [
    "df_2020 = df[['Title','Cast and crew']]"
   ]
  },
  {
   "cell_type": "code",
   "execution_count": 11,
   "metadata": {},
   "outputs": [
    {
     "data": {
      "text/html": [
       "<div>\n",
       "<style scoped>\n",
       "    .dataframe tbody tr th:only-of-type {\n",
       "        vertical-align: middle;\n",
       "    }\n",
       "\n",
       "    .dataframe tbody tr th {\n",
       "        vertical-align: top;\n",
       "    }\n",
       "\n",
       "    .dataframe thead th {\n",
       "        text-align: right;\n",
       "    }\n",
       "</style>\n",
       "<table border=\"1\" class=\"dataframe\">\n",
       "  <thead>\n",
       "    <tr style=\"text-align: right;\">\n",
       "      <th></th>\n",
       "      <th>Title</th>\n",
       "      <th>Cast and crew</th>\n",
       "    </tr>\n",
       "  </thead>\n",
       "  <tbody>\n",
       "    <tr>\n",
       "      <th>0</th>\n",
       "      <td>The Grudge</td>\n",
       "      <td>Nicolas Pesce (director/screenplay); Andrea Ri...</td>\n",
       "    </tr>\n",
       "    <tr>\n",
       "      <th>1</th>\n",
       "      <td>Underwater</td>\n",
       "      <td>William Eubank (director); Brian Duffield, Ada...</td>\n",
       "    </tr>\n",
       "    <tr>\n",
       "      <th>2</th>\n",
       "      <td>Like a Boss</td>\n",
       "      <td>Miguel Arteta (director); Sam Pitman, Adam Col...</td>\n",
       "    </tr>\n",
       "    <tr>\n",
       "      <th>3</th>\n",
       "      <td>Three Christs</td>\n",
       "      <td>Jon Avnet (director/screenplay); Eric Nazarian...</td>\n",
       "    </tr>\n",
       "    <tr>\n",
       "      <th>4</th>\n",
       "      <td>Inherit the Viper</td>\n",
       "      <td>Anthony Jerjen (director); Andrew Crabtree (sc...</td>\n",
       "    </tr>\n",
       "    <tr>\n",
       "      <th>...</th>\n",
       "      <td>...</td>\n",
       "      <td>...</td>\n",
       "    </tr>\n",
       "    <tr>\n",
       "      <th>270</th>\n",
       "      <td>We Can Be Heroes</td>\n",
       "      <td>Robert Rodriguez (director/screenplay); Priyan...</td>\n",
       "    </tr>\n",
       "    <tr>\n",
       "      <th>271</th>\n",
       "      <td>News of the World</td>\n",
       "      <td>Paul Greengrass (director/screenplay); Luke Da...</td>\n",
       "    </tr>\n",
       "    <tr>\n",
       "      <th>272</th>\n",
       "      <td>One Night in Miami...</td>\n",
       "      <td>Regina King (director); Kemp Powers (screenpla...</td>\n",
       "    </tr>\n",
       "    <tr>\n",
       "      <th>273</th>\n",
       "      <td>Promising Young Woman</td>\n",
       "      <td>Emerald Fennell (director/screenplay); Carey M...</td>\n",
       "    </tr>\n",
       "    <tr>\n",
       "      <th>274</th>\n",
       "      <td>Pieces of a Woman</td>\n",
       "      <td>Kornél Mundruczó (director); Kata Wéber (scree...</td>\n",
       "    </tr>\n",
       "  </tbody>\n",
       "</table>\n",
       "<p>275 rows × 2 columns</p>\n",
       "</div>"
      ],
      "text/plain": [
       "                     Title                                      Cast and crew\n",
       "0               The Grudge  Nicolas Pesce (director/screenplay); Andrea Ri...\n",
       "1               Underwater  William Eubank (director); Brian Duffield, Ada...\n",
       "2              Like a Boss  Miguel Arteta (director); Sam Pitman, Adam Col...\n",
       "3            Three Christs  Jon Avnet (director/screenplay); Eric Nazarian...\n",
       "4        Inherit the Viper  Anthony Jerjen (director); Andrew Crabtree (sc...\n",
       "..                     ...                                                ...\n",
       "270       We Can Be Heroes  Robert Rodriguez (director/screenplay); Priyan...\n",
       "271      News of the World  Paul Greengrass (director/screenplay); Luke Da...\n",
       "272  One Night in Miami...  Regina King (director); Kemp Powers (screenpla...\n",
       "273  Promising Young Woman  Emerald Fennell (director/screenplay); Carey M...\n",
       "274      Pieces of a Woman  Kornél Mundruczó (director); Kata Wéber (scree...\n",
       "\n",
       "[275 rows x 2 columns]"
      ]
     },
     "execution_count": 11,
     "metadata": {},
     "output_type": "execute_result"
    }
   ],
   "source": [
    "df_2020"
   ]
  },
  {
   "cell_type": "code",
   "execution_count": 12,
   "metadata": {},
   "outputs": [],
   "source": [
    "from tmdbv3api import TMDb\n",
    "import json\n",
    "import requests\n",
    "tmdb = TMDb()\n",
    "tmdb.api_key = 'caa7134e8101f1c78864a4713b8edf73'"
   ]
  },
  {
   "cell_type": "code",
   "execution_count": 13,
   "metadata": {},
   "outputs": [],
   "source": [
    "from tmdbv3api import Movie\n",
    "tmdb_movie = Movie()\n",
    "def get_genre(x):\n",
    "    genres = []\n",
    "    result = tmdb_movie.search(x)\n",
    "    movie_id = result[0].id\n",
    "    response = requests.get('https://api.themoviedb.org/3/movie/{}?api_key={}'.format(movie_id,tmdb.api_key))\n",
    "    data_json = response.json()\n",
    "    if data_json['genres']:\n",
    "        genre_str = \" \" \n",
    "        for i in range(0,len(data_json['genres'])):\n",
    "            genres.append(data_json['genres'][i]['name'])\n",
    "        genre_list = str(genres)\n",
    "        return genre_list\n",
    "#         return genre_str.join(genre_list)\n",
    "    else:\n",
    "        np.NaN"
   ]
  },
  {
   "cell_type": "code",
   "execution_count": null,
   "metadata": {
    "scrolled": true
   },
   "outputs": [],
   "source": [
    "df_2020['Genre'] = df_2020['Title'].map(lambda x: get_genre(str(x)))"
   ]
  },
  {
   "cell_type": "code",
   "execution_count": null,
   "metadata": {},
   "outputs": [],
   "source": [
    "df_2020"
   ]
  },
  {
   "cell_type": "code",
   "execution_count": null,
   "metadata": {},
   "outputs": [],
   "source": [
    "def list_to_string(x):\n",
    "    if x:\n",
    "        return x.replace(',', '').replace('[','').replace(']','').replace(\"'\",'')\n",
    "    else:\n",
    "        return np.NaN"
   ]
  },
  {
   "cell_type": "code",
   "execution_count": null,
   "metadata": {
    "scrolled": true
   },
   "outputs": [],
   "source": [
    "df_2020['genres'] = df_2020['Genre'].map(lambda x: list_to_string(x))"
   ]
  },
  {
   "cell_type": "code",
   "execution_count": null,
   "metadata": {},
   "outputs": [],
   "source": [
    "df_2020"
   ]
  },
  {
   "cell_type": "code",
   "execution_count": null,
   "metadata": {},
   "outputs": [],
   "source": [
    "def get_director(x):\n",
    "    if \" (director)\" in x:\n",
    "        return x.split(\" (director)\")[0]\n",
    "    elif \" (directors)\" in x:\n",
    "        return x.split(\" (directors)\")[0]\n",
    "    else:\n",
    "        return x.split(\" (director/screenplay)\")[0]"
   ]
  },
  {
   "cell_type": "code",
   "execution_count": null,
   "metadata": {},
   "outputs": [],
   "source": [
    "df_2020['director_name'] = df_2020['Cast and crew'].map(lambda x: get_director(str(x)))"
   ]
  },
  {
   "cell_type": "code",
   "execution_count": null,
   "metadata": {},
   "outputs": [],
   "source": [
    "def get_actor1(x):\n",
    "    return ((x.split(\"screenplay); \")[-1]).split(\", \")[0])"
   ]
  },
  {
   "cell_type": "code",
   "execution_count": null,
   "metadata": {},
   "outputs": [],
   "source": [
    "df_2020['actor_1_name'] = df_2020['Cast and crew'].map(lambda x: get_actor1(str(x)))"
   ]
  },
  {
   "cell_type": "code",
   "execution_count": null,
   "metadata": {},
   "outputs": [],
   "source": [
    "def get_actor2(x):\n",
    "    if len((x.split(\"screenplay); \")[-1]).split(\", \")) < 2:\n",
    "        return np.NaN\n",
    "    else:\n",
    "        return ((x.split(\"screenplay); \")[-1]).split(\", \")[1])"
   ]
  },
  {
   "cell_type": "code",
   "execution_count": null,
   "metadata": {},
   "outputs": [],
   "source": [
    "df_2020['actor_2_name'] = df_2020['Cast and crew'].map(lambda x: get_actor2(str(x)))"
   ]
  },
  {
   "cell_type": "code",
   "execution_count": null,
   "metadata": {},
   "outputs": [],
   "source": [
    "def get_actor3(x):\n",
    "    if len((x.split(\"screenplay); \")[-1]).split(\", \")) < 3:\n",
    "        return np.NaN\n",
    "    else:\n",
    "        return ((x.split(\"screenplay); \")[-1]).split(\", \")[2])"
   ]
  },
  {
   "cell_type": "code",
   "execution_count": null,
   "metadata": {},
   "outputs": [],
   "source": [
    "df_2020['actor_3_name'] = df_2020['Cast and crew'].map(lambda x: get_actor3(str(x)))"
   ]
  },
  {
   "cell_type": "code",
   "execution_count": null,
   "metadata": {},
   "outputs": [],
   "source": [
    "df_2020"
   ]
  },
  {
   "cell_type": "code",
   "execution_count": null,
   "metadata": {},
   "outputs": [],
   "source": [
    "df_2020 = df_2020.rename(columns={'Title':'movie_title'})"
   ]
  },
  {
   "cell_type": "code",
   "execution_count": null,
   "metadata": {},
   "outputs": [],
   "source": [
    "new_df20 = df_2020.loc[:,['director_name','actor_1_name','actor_2_name','actor_3_name','genres','movie_title']]"
   ]
  },
  {
   "cell_type": "code",
   "execution_count": null,
   "metadata": {},
   "outputs": [],
   "source": [
    "new_df20"
   ]
  },
  {
   "cell_type": "code",
   "execution_count": null,
   "metadata": {},
   "outputs": [],
   "source": [
    "new_df20['comb'] = new_df20['actor_1_name'] + ' ' + new_df20['actor_2_name'] + ' '+ new_df20['actor_3_name'] + ' '+ new_df20['director_name'] +' ' + new_df20['genres']"
   ]
  },
  {
   "cell_type": "code",
   "execution_count": null,
   "metadata": {},
   "outputs": [],
   "source": [
    "new_df20['actor_2_name'] = new_df20['actor_2_name'].replace(np.nan, 'unknown')\n",
    "new_df20['actor_3_name'] = new_df20['actor_3_name'].replace(np.nan, 'unknown')\n",
    "new_df20['director_name'] = new_df20['director_name'].replace(np.nan, 'unknown')\n",
    "new_df20['movie_title'] = new_df20['movie_title'].replace(np.nan, 'unknown')\n",
    "new_df20['actor_1_name'] = new_df20['actor_1_name'].replace(np.nan, 'unknown')\n",
    "new_df20['comb'] = new_df20['comb'].replace(np.nan, 'unknown')\n",
    "new_df20['genres'] = new_df20['genres'].replace(np.nan, 'unknown')"
   ]
  },
  {
   "cell_type": "code",
   "execution_count": null,
   "metadata": {},
   "outputs": [],
   "source": [
    "new_df20['movie_title'] = new_df20['movie_title'].str.lower()"
   ]
  },
  {
   "cell_type": "code",
   "execution_count": null,
   "metadata": {},
   "outputs": [],
   "source": [
    "new_df20"
   ]
  },
  {
   "cell_type": "code",
   "execution_count": null,
   "metadata": {},
   "outputs": [],
   "source": [
    "old_df = pd.read_csv('final_data.csv')"
   ]
  },
  {
   "cell_type": "code",
   "execution_count": null,
   "metadata": {},
   "outputs": [],
   "source": [
    "old_df"
   ]
  },
  {
   "cell_type": "code",
   "execution_count": null,
   "metadata": {},
   "outputs": [],
   "source": [
    "final_df = old_df.append(new_df20,ignore_index=True)"
   ]
  },
  {
   "cell_type": "code",
   "execution_count": null,
   "metadata": {},
   "outputs": [],
   "source": [
    "final_df"
   ]
  },
  {
   "cell_type": "code",
   "execution_count": null,
   "metadata": {},
   "outputs": [],
   "source": [
    "final_df.to_csv('main_data.csv',index=False)"
   ]
  }
 ],
 "metadata": {
  "kernelspec": {
   "display_name": "Python 3 (ipykernel)",
   "language": "python",
   "name": "python3"
  },
  "language_info": {
   "codemirror_mode": {
    "name": "ipython",
    "version": 3
   },
   "file_extension": ".py",
   "mimetype": "text/x-python",
   "name": "python",
   "nbconvert_exporter": "python",
   "pygments_lexer": "ipython3",
   "version": "3.9.12"
  }
 },
 "nbformat": 4,
 "nbformat_minor": 4
}
